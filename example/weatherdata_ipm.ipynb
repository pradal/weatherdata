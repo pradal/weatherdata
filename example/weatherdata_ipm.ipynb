{
 "cells": [
  {
   "cell_type": "markdown",
   "id": "0e1ab339",
   "metadata": {},
   "source": [
    "# Weatherdata for IPM Plateform"
   ]
  },
  {
   "cell_type": "markdown",
   "id": "16336eff",
   "metadata": {},
   "source": [
    "## 1. import weather data modules"
   ]
  },
  {
   "cell_type": "code",
   "execution_count": 1,
   "id": "721bd965",
   "metadata": {},
   "outputs": [],
   "source": [
    "from weatherdata.ipm import WeatherDataHub \n",
    "import pandas\n",
    "pandas.set_option('display.max_rows',10)"
   ]
  },
  {
   "cell_type": "markdown",
   "id": "22fa4c35",
   "metadata": {},
   "source": [
    "## 2. Access to weatherdatasource available on the platefom"
   ]
  },
  {
   "cell_type": "code",
   "execution_count": 2,
   "id": "360c5afe",
   "metadata": {},
   "outputs": [],
   "source": [
    "ws=WeatherDataHub()"
   ]
  },
  {
   "cell_type": "code",
   "execution_count": 3,
   "id": "39010d45",
   "metadata": {},
   "outputs": [
    {
     "data": {
      "text/html": [
       "<div>\n",
       "<style scoped>\n",
       "    .dataframe tbody tr th:only-of-type {\n",
       "        vertical-align: middle;\n",
       "    }\n",
       "\n",
       "    .dataframe tbody tr th {\n",
       "        vertical-align: top;\n",
       "    }\n",
       "\n",
       "    .dataframe thead th {\n",
       "        text-align: right;\n",
       "    }\n",
       "</style>\n",
       "<table border=\"1\" class=\"dataframe\">\n",
       "  <thead>\n",
       "    <tr style=\"text-align: right;\">\n",
       "      <th></th>\n",
       "      <th>name</th>\n",
       "      <th>description</th>\n",
       "      <th>parameters</th>\n",
       "    </tr>\n",
       "  </thead>\n",
       "  <tbody>\n",
       "    <tr>\n",
       "      <th>0</th>\n",
       "      <td>Met Norway Locationforecast</td>\n",
       "      <td>9-day forecasts for the entire planet. 2.5 km ...</td>\n",
       "      <td>{'common': [1001, 3001, 2001, 4002], 'optional...</td>\n",
       "    </tr>\n",
       "    <tr>\n",
       "      <th>1</th>\n",
       "      <td>Met Éireann Locationforecast</td>\n",
       "      <td>9-day forecasts for Ireland.</td>\n",
       "      <td>{'common': [1001, 3001, 2001, 4002], 'optional...</td>\n",
       "    </tr>\n",
       "    <tr>\n",
       "      <th>2</th>\n",
       "      <td>DMI Pointweather service</td>\n",
       "      <td>Seasonal weather data and forecasts for Denmar...</td>\n",
       "      <td>{'common': [1002, 1112, 2001, 3002, 3101, 4002...</td>\n",
       "    </tr>\n",
       "    <tr>\n",
       "      <th>3</th>\n",
       "      <td>SLU Lantmet service</td>\n",
       "      <td>Seasonal weather data and forecasts for Sweden...</td>\n",
       "      <td>{'common': [1002, 1003, 1004, 2001, 3002, 3003...</td>\n",
       "    </tr>\n",
       "    <tr>\n",
       "      <th>4</th>\n",
       "      <td>Deutsche Wetterdienst location forecast by IPM...</td>\n",
       "      <td>27 hour weather forecasts for Germany and surr...</td>\n",
       "      <td>{'common': [1001, 3001, 2001, 4002], 'optional...</td>\n",
       "    </tr>\n",
       "    <tr>\n",
       "      <th>...</th>\n",
       "      <td>...</td>\n",
       "      <td>...</td>\n",
       "      <td>...</td>\n",
       "    </tr>\n",
       "    <tr>\n",
       "      <th>10</th>\n",
       "      <td>Landbruksmeteorologisk tjeneste</td>\n",
       "      <td>Weather station network covering major agricul...</td>\n",
       "      <td>{'common': [1002, 1003, 1004, 3002, 2001, 4003...</td>\n",
       "    </tr>\n",
       "    <tr>\n",
       "      <th>11</th>\n",
       "      <td>MeteoBot API</td>\n",
       "      <td>Network of privately owned weather stations. A...</td>\n",
       "      <td>{'common': [1001, 3001, 2001, 4002], 'optional...</td>\n",
       "    </tr>\n",
       "    <tr>\n",
       "      <th>12</th>\n",
       "      <td>Fruitweb</td>\n",
       "      <td>Network of privately owned weather stations of...</td>\n",
       "      <td>{'common': [1001, 3001, 2001, 4002], 'optional...</td>\n",
       "    </tr>\n",
       "    <tr>\n",
       "      <th>13</th>\n",
       "      <td>Metos</td>\n",
       "      <td>Network of privately owned weather stations of...</td>\n",
       "      <td>{'common': [1001, 3001, 2001, 4002], 'optional...</td>\n",
       "    </tr>\n",
       "    <tr>\n",
       "      <th>14</th>\n",
       "      <td>Meteodata by Météo Concept</td>\n",
       "      <td>Weather station network covering all of mainla...</td>\n",
       "      <td>{'common': [1001, 2001, 3001, 4001, 4003], 'op...</td>\n",
       "    </tr>\n",
       "  </tbody>\n",
       "</table>\n",
       "<p>15 rows × 3 columns</p>\n",
       "</div>"
      ],
      "text/plain": [
       "                                                 name  \\\n",
       "0                         Met Norway Locationforecast   \n",
       "1                        Met Éireann Locationforecast   \n",
       "2                            DMI Pointweather service   \n",
       "3                                 SLU Lantmet service   \n",
       "4   Deutsche Wetterdienst location forecast by IPM...   \n",
       "..                                                ...   \n",
       "10                    Landbruksmeteorologisk tjeneste   \n",
       "11                                       MeteoBot API   \n",
       "12                                           Fruitweb   \n",
       "13                                              Metos   \n",
       "14                         Meteodata by Météo Concept   \n",
       "\n",
       "                                          description  \\\n",
       "0   9-day forecasts for the entire planet. 2.5 km ...   \n",
       "1                        9-day forecasts for Ireland.   \n",
       "2   Seasonal weather data and forecasts for Denmar...   \n",
       "3   Seasonal weather data and forecasts for Sweden...   \n",
       "4   27 hour weather forecasts for Germany and surr...   \n",
       "..                                                ...   \n",
       "10  Weather station network covering major agricul...   \n",
       "11  Network of privately owned weather stations. A...   \n",
       "12  Network of privately owned weather stations of...   \n",
       "13  Network of privately owned weather stations of...   \n",
       "14  Weather station network covering all of mainla...   \n",
       "\n",
       "                                           parameters  \n",
       "0   {'common': [1001, 3001, 2001, 4002], 'optional...  \n",
       "1   {'common': [1001, 3001, 2001, 4002], 'optional...  \n",
       "2   {'common': [1002, 1112, 2001, 3002, 3101, 4002...  \n",
       "3   {'common': [1002, 1003, 1004, 2001, 3002, 3003...  \n",
       "4   {'common': [1001, 3001, 2001, 4002], 'optional...  \n",
       "..                                                ...  \n",
       "10  {'common': [1002, 1003, 1004, 3002, 2001, 4003...  \n",
       "11  {'common': [1001, 3001, 2001, 4002], 'optional...  \n",
       "12  {'common': [1001, 3001, 2001, 4002], 'optional...  \n",
       "13  {'common': [1001, 3001, 2001, 4002], 'optional...  \n",
       "14  {'common': [1001, 2001, 3001, 4001, 4003], 'op...  \n",
       "\n",
       "[15 rows x 3 columns]"
      ]
     },
     "execution_count": 3,
     "metadata": {},
     "output_type": "execute_result"
    }
   ],
   "source": [
    "ws.list_resources"
   ]
  },
  {
   "cell_type": "markdown",
   "id": "7196b96c",
   "metadata": {},
   "source": [
    "## 3. Get ressource for a specific weatherdataresource "
   ]
  },
  {
   "cell_type": "markdown",
   "id": "33934a6c",
   "metadata": {},
   "source": [
    "To connect to the meteo resource, simply enter the name of the meteo resource in the get_ressource function. "
   ]
  },
  {
   "cell_type": "code",
   "execution_count": 4,
   "id": "2a1d4796",
   "metadata": {},
   "outputs": [
    {
     "ename": "TypeError",
     "evalue": "get_ressource() missing 1 required positional argument: 'df'",
     "output_type": "error",
     "traceback": [
      "\u001b[1;31m---------------------------------------------------------------------------\u001b[0m",
      "\u001b[1;31mTypeError\u001b[0m                                 Traceback (most recent call last)",
      "\u001b[1;32m~\\AppData\\Local\\Temp/ipykernel_23208/946397418.py\u001b[0m in \u001b[0;36m<module>\u001b[1;34m\u001b[0m\n\u001b[1;32m----> 1\u001b[1;33m \u001b[0mfmi\u001b[0m\u001b[1;33m=\u001b[0m\u001b[0mws\u001b[0m\u001b[1;33m.\u001b[0m\u001b[0mget_ressource\u001b[0m\u001b[1;33m(\u001b[0m\u001b[0mname\u001b[0m\u001b[1;33m=\u001b[0m\u001b[1;34m'Finnish Meteorological Institute measured data'\u001b[0m\u001b[1;33m)\u001b[0m\u001b[1;33m\u001b[0m\u001b[1;33m\u001b[0m\u001b[0m\n\u001b[0m",
      "\u001b[1;31mTypeError\u001b[0m: get_ressource() missing 1 required positional argument: 'df'"
     ]
    }
   ],
   "source": [
    "fmi=ws.get_ressource(name='Finnish Meteorological Institute measured data')"
   ]
  },
  {
   "cell_type": "markdown",
   "id": "4cfff1e3",
   "metadata": {},
   "source": [
    "Once connected to the resource various functions are available. You can check \n",
    "* the available stations for the resource with station_ids function. This function This function returns a dataframe of the stations available for the resource with their names, their identifiers and the coordinates of the station (latitude, longitude)\n",
    "* the weather parameters accepted by the resource  with parameters function. This function return common and optional weather parameter \n",
    "* Get Weatherdata in xarray dataset with attribute or json format (more description of this function below)"
   ]
  },
  {
   "cell_type": "code",
   "execution_count": null,
   "id": "d92d4dc1",
   "metadata": {},
   "outputs": [],
   "source": [
    "fmi.stations\n"
   ]
  },
  {
   "cell_type": "code",
   "execution_count": null,
   "id": "dbfe7052",
   "metadata": {},
   "outputs": [],
   "source": [
    "fmi.parameter"
   ]
  },
  {
   "cell_type": "markdown",
   "id": "6675b899",
   "metadata": {},
   "source": [
    "### Get weather data"
   ]
  },
  {
   "cell_type": "markdown",
   "id": "96fc8319",
   "metadata": {},
   "source": [
    "According to weather resources differents parameters can be used:\n",
    "* *for historic weatherdata*\n",
    "    * parameters: list of weather parameters available for the resource selected\n",
    "    * station_id: list of station id available for the resource selected\n",
    "    * timeStart: Start date of the request\n",
    "    * timeEnd: End date of the request\n",
    "    * timezone: The timezone\n",
    "    * format: 'ds' to obtain a xarray dataset or 'json' to obtain the json     \n",
    "    \n",
    "    \n",
    "* *for forecasts weather resources*\n",
    "    * latitude: list of latitude\n",
    "    * longitude: list of longitude\n",
    "    * altitude: list of altitude"
   ]
  },
  {
   "cell_type": "markdown",
   "id": "7fd1cc69",
   "metadata": {},
   "source": [
    "#### Example for historic weather ressources \n",
    "* for one station_id"
   ]
  },
  {
   "cell_type": "code",
   "execution_count": null,
   "id": "4f4bff7a",
   "metadata": {},
   "outputs": [],
   "source": [
    "# for one station_ids\n",
    "ds=fmi.data(parameters=[1002,3002],\n",
    "            stationId=[101533],\n",
    "            timeStart='2020-06-12',\n",
    "            timeEnd='2020-07-03',\n",
    "            timeZone='UTC',\n",
    "            display='ds',\n",
    "            varname='id')\n",
    "ds"
   ]
  },
  {
   "cell_type": "code",
   "execution_count": null,
   "id": "8e3e2cc1",
   "metadata": {},
   "outputs": [],
   "source": [
    "ds.to_dataframe()"
   ]
  },
  {
   "cell_type": "markdown",
   "id": "c1701047",
   "metadata": {},
   "source": [
    "* for several station_ids"
   ]
  },
  {
   "cell_type": "code",
   "execution_count": null,
   "id": "1dbdcdd6",
   "metadata": {},
   "outputs": [],
   "source": [
    "ds=fmi.data(parameters=[1002,3002],\n",
    "            stationId=[101533,101185],\n",
    "            timeStart='2020-06-12',\n",
    "            timeEnd='2020-07-03',\n",
    "            timeZone='UTC',\n",
    "            display='ds',varname='name')\n",
    "ds"
   ]
  },
  {
   "cell_type": "code",
   "execution_count": null,
   "id": "0a87737f",
   "metadata": {},
   "outputs": [],
   "source": [
    "ds.to_dataframe()"
   ]
  },
  {
   "cell_type": "markdown",
   "id": "4836426f",
   "metadata": {},
   "source": [
    "#### For forecast weather resources\n",
    "* example for one latitude, longitude, altitude"
   ]
  },
  {
   "cell_type": "code",
   "execution_count": null,
   "id": "ee381b1f",
   "metadata": {},
   "outputs": [],
   "source": [
    "norway=ws.get_ressource(name='Met Norway Locationforecast')"
   ]
  },
  {
   "cell_type": "code",
   "execution_count": null,
   "id": "92166047",
   "metadata": {},
   "outputs": [],
   "source": [
    "ds=norway.data(latitude=[67.2828], longitude=[14.3711], altitude=[70],format='ds',varname='id')\n",
    "ds"
   ]
  },
  {
   "cell_type": "code",
   "execution_count": null,
   "id": "2f4149a1",
   "metadata": {},
   "outputs": [],
   "source": [
    "ds=norway.data(latitude=[67.2828,61.27], longitude=[14.3711,25.52], altitude=[70, 0],format='ds',varname=\"name\")\n",
    "ds"
   ]
  },
  {
   "cell_type": "code",
   "execution_count": null,
   "id": "b206a2f3",
   "metadata": {},
   "outputs": [],
   "source": [
    "ds.to_dataframe()"
   ]
  },
  {
   "cell_type": "markdown",
   "id": "06e764ca",
   "metadata": {},
   "source": [
    "**From ds you can see data as dataframe with function to_dataframe and exclude na value with dropna**\n",
    "for more information on the http://xarray.pydata.org/en/stable/index.html"
   ]
  },
  {
   "cell_type": "markdown",
   "id": "105567c5",
   "metadata": {},
   "source": [
    "#### Example of weatherdatasource with credentials"
   ]
  },
  {
   "cell_type": "code",
   "execution_count": null,
   "id": "9399ddd0",
   "metadata": {},
   "outputs": [],
   "source": [
    "fruitdevis=ws.get_ressource(name='Fruitweb')\n",
    "fruitdevis.data(parameters=[1002,3002],stationId=[536], timeStart='2021-02-01',timeEnd='2021-03-01',credentials={\"userName\":\"\",\"password\":\"GF90esoleo\"},varname=\"id\")"
   ]
  },
  {
   "cell_type": "markdown",
   "id": "28fac6e1",
   "metadata": {},
   "source": [
    "# Metpy test"
   ]
  },
  {
   "cell_type": "code",
   "execution_count": null,
   "id": "456dfc66",
   "metadata": {},
   "outputs": [],
   "source": [
    "import metpy.calc as mpcalc\n",
    "from metpy.units import units\n",
    "import cartopy.feature as cfeature\n",
    "import matplotlib.pyplot as plt\n",
    "import xarray as xr\n",
    "import cartopy.crs as ccrs"
   ]
  },
  {
   "cell_type": "code",
   "execution_count": null,
   "id": "6b2816b9",
   "metadata": {},
   "outputs": [],
   "source": [
    "fmi=ws.get_ressource(name='Finnish Meteorological Institute measured data')\n",
    "list_station=list(fmi.station_ids().id.astype(\"int\"))\n"
   ]
  },
  {
   "cell_type": "code",
   "execution_count": null,
   "id": "52abc66b",
   "metadata": {},
   "outputs": [],
   "source": [
    "ds=fmi.data(parameters=[1002,3002],\n",
    "            stationId=list_station[:25],\n",
    "            timeStart='2020-06-12',\n",
    "            timeEnd='2020-07-03',\n",
    "            timeZone='UTC',\n",
    "            format='ds',varname='id',savecache=True,usecache=True)\n",
    "\n",
    "ds=ds.astype(\"float\")\n",
    "# ds['1002'].attrs['description']=str(ds['1002'].attrs['description'])\n",
    "# ds['3002'].attrs['description']=str(ds['1002'].attrs['description'])\n",
    "# ds.to_netcdf(\"toto.nc\")\n",
    "ds"
   ]
  },
  {
   "cell_type": "markdown",
   "id": "6a2161b5",
   "metadata": {},
   "source": [
    "## Metpy station plot"
   ]
  },
  {
   "cell_type": "markdown",
   "id": "a6af73d9",
   "metadata": {},
   "source": [
    "### Plot stations on map"
   ]
  },
  {
   "cell_type": "code",
   "execution_count": null,
   "id": "9d1a329a",
   "metadata": {},
   "outputs": [],
   "source": [
    "import cartopy.crs as ccrs\n",
    "import cartopy.feature as cfeature\n",
    "import matplotlib.pyplot as plt\n",
    "\n",
    "from metpy.plots import StationPlot"
   ]
  },
  {
   "cell_type": "code",
   "execution_count": null,
   "id": "5570fb9e",
   "metadata": {},
   "outputs": [],
   "source": [
    "data=ds.isel(time=0)\n",
    "data=data.to_dataframe()\n",
    "range(len(data.index.levels[0].values))"
   ]
  },
  {
   "cell_type": "code",
   "execution_count": null,
   "id": "74615592",
   "metadata": {},
   "outputs": [],
   "source": [
    "proj = ccrs.LambertConformal()\n",
    "fig = plt.figure(figsize=(20, 10))\n",
    "ax = fig.add_subplot(1, 1, 1, projection=proj)\n",
    "\n",
    "ax.add_feature(cfeature.LAND)\n",
    "ax.add_feature(cfeature.OCEAN)\n",
    "ax.add_feature(cfeature.LAKES)\n",
    "ax.add_feature(cfeature.COASTLINE)\n",
    "ax.add_feature(cfeature.STATES)\n",
    "ax.add_feature(cfeature.BORDERS)\n",
    "\n",
    "\n",
    "stationplot = StationPlot(ax, data.index.levels[1].values, data.index.levels[2].values,\n",
    "                          clip_on=True, transform=ccrs.Geodetic(), fontsize=12)\n",
    "stationplot.plot_parameter(location=\"NW\",parameter=data['1002'].values,color='red')\n",
    "stationplot.plot_parameter(location=\"SW\",parameter=data['3002'].values,color='blue')\n",
    "stationplot.plot_text((5, 0),data.index.levels[0].values)"
   ]
  },
  {
   "cell_type": "markdown",
   "id": "4cc1b568",
   "metadata": {},
   "source": [
    "### Plot temperature on map"
   ]
  },
  {
   "cell_type": "markdown",
   "id": "831b164d",
   "metadata": {},
   "source": [
    "#### example metpy XArray Projection Handling"
   ]
  },
  {
   "cell_type": "code",
   "execution_count": null,
   "id": "50099c44",
   "metadata": {},
   "outputs": [],
   "source": [
    "import cartopy.feature as cfeature\n",
    "import matplotlib.pyplot as plt\n",
    "import xarray as xr\n",
    "\n",
    "# Any import of metpy will activate the accessors\n",
    "from metpy.cbook import get_test_data\n",
    "\n",
    "ds1 = xr.open_dataset(get_test_data('narr_example.nc', as_file_obj=False))\n",
    "data_var = ds1.metpy.parse_cf('Temperature')\n",
    "ds1"
   ]
  },
  {
   "cell_type": "code",
   "execution_count": null,
   "id": "bb390f23",
   "metadata": {},
   "outputs": [],
   "source": [
    "x = data_var.x\n",
    "y = data_var.y\n",
    "im_data = data_var.isel(time=0).sel(isobaric=1000.)\n",
    "\n",
    "fig = plt.figure(figsize=(14, 14))\n",
    "ax = fig.add_subplot(1, 1, 1, projection=data_var.metpy.cartopy_crs)\n",
    "\n",
    "ax.imshow(im_data, extent=(x.min(), x.max(), y.min(), y.max()),\n",
    "          cmap='RdBu', origin='lower' if y[0] < y[-1] else 'upper')\n",
    "ax.coastlines(color='tab:green', resolution='10m')\n",
    "ax.add_feature(cfeature.LAKES.with_scale('10m'), facecolor='none', edgecolor='tab:blue')\n",
    "ax.add_feature(cfeature.RIVERS.with_scale('10m'), edgecolor='tab:blue')\n",
    "\n",
    "plt.show()"
   ]
  },
  {
   "cell_type": "markdown",
   "id": "ba9ce08d",
   "metadata": {},
   "source": [
    "#### test with IPM data"
   ]
  },
  {
   "cell_type": "code",
   "execution_count": null,
   "id": "6661a84e",
   "metadata": {},
   "outputs": [],
   "source": [
    "import numpy\n",
    "\n",
    "data_var = ds.metpy.parse_cf('1002')\n",
    "y= ds.lat\n",
    "x= ds.lon\n",
    "\n",
    "data_var , x , y\n",
    "#xr.merge([data_var,x])\n",
    "\n",
    "# im_data = data_var.isel(time=0)\n",
    "\n",
    "# fig = plt.figure(figsize=(14, 14))\n",
    "# ax = fig.add_subplot(1, 1, 1, projection=data_var.metpy.cartopy_crs)\n",
    "\n",
    "# ax.imshow(numpy.float64(im_data),\n",
    "#            cmap='RdBu')\n",
    "# ax.coastlines(color='tab:green', resolution='10m')\n",
    "# ax.add_feature(cfeature.LAKES.with_scale('10m'), facecolor='none', edgecolor='tab:blue')\n",
    "# ax.add_feature(cfeature.RIVERS.with_scale('10m'), edgecolor='tab:blue')\n",
    "# ax.add_feature(cfeature.LAND)\n",
    "# ax.add_feature(cfeature.OCEAN)\n",
    "# ax.add_feature(cfeature.STATES)\n",
    "# ax.add_feature(cfeature.BORDERS)\n",
    "#data_var\n"
   ]
  },
  {
   "cell_type": "code",
   "execution_count": null,
   "id": "c07d6bdc",
   "metadata": {},
   "outputs": [],
   "source": [
    "da = data_var.to_dataset().assign_coords({\"lon\":x,\"lat\":y})\n",
    "\n",
    "im_data = da.isel(time=0)\n",
    "fig = plt.figure(figsize=(14, 14))\n",
    "ax = fig.add_subplot(1, 1, 1, projection=da.metpy.cartopy_crs)\n",
    "\n",
    "ax.imshow(numpy.float64(im_data),\n",
    "           cmap='RdBu')\n",
    "ax.coastlines(color='tab:green', resolution='10m')\n",
    "ax.add_feature(cfeature.LAKES.with_scale('10m'), facecolor='none', edgecolor='tab:blue')\n",
    "ax.add_feature(cfeature.RIVERS.with_scale('10m'), edgecolor='tab:blue')\n",
    "ax.add_feature(cfeature.LAND)\n",
    "ax.add_feature(cfeature.OCEAN)\n",
    "ax.add_feature(cfeature.STATES)\n",
    "ax.add_feature(cfeature.BORDERS)"
   ]
  },
  {
   "cell_type": "code",
   "execution_count": null,
   "id": "569dafa9",
   "metadata": {},
   "outputs": [],
   "source": [
    "from metpy.interpolate import interpolate_to_grid, remove_nan_observations, remove_repeat_coordinates\n",
    "import numpy as np\n",
    "\n",
    "to_proj = ccrs.LambertConformal()\n",
    "\n",
    "lon = ds.lon.values\n",
    "lat = ds.lat.values\n",
    "\n",
    "xp, yp, _ = to_proj.transform_points(ccrs.Geodetic(), lon, lat).T\n",
    "\n",
    "x_masked, y_masked, temp = remove_nan_observations(xp, yp, np.float64(ds['1002'].isel(time=0).values))"
   ]
  },
  {
   "cell_type": "code",
   "execution_count": null,
   "id": "843d7c32",
   "metadata": {},
   "outputs": [],
   "source": [
    "tempgridx, tempgridy, temp = interpolate_to_grid(x_masked, y_masked, temp,\n",
    "                                              interp_type='cressman', minimum_neighbors=1,\n",
    "                                              search_radius=400000, hres=100000)\n",
    "\n",
    "temp\n"
   ]
  },
  {
   "cell_type": "code",
   "execution_count": null,
   "id": "3cd2100a",
   "metadata": {},
   "outputs": [],
   "source": [
    "import matplotlib.pyplot as plt\n",
    "from matplotlib.colors import BoundaryNorm\n",
    "levels = list(range(-20, 20, 1))\n",
    "cmap = plt.get_cmap('inferno')\n",
    "norm = BoundaryNorm(levels, ncolors=cmap.N, clip=True)\n",
    "\n",
    "fig = plt.figure(figsize=(20, 10))\n",
    "view = fig.add_subplot(1, 1, 1, projection=to_proj)\n",
    "\n",
    "#view.set_extent([lon.min(), lat.min(), lon.max(), lat.min()])\n",
    "view.add_feature(cfeature.STATES.with_scale('50m'))\n",
    "view.add_feature(cfeature.OCEAN)\n",
    "view.add_feature(cfeature.COASTLINE.with_scale('50m'))\n",
    "view.add_feature(cfeature.BORDERS, linestyle=':')\n",
    "\n",
    "#cs = view.contour(tempgridx, tempgridy, temp, colors='k', levels=list(range(990, 1034, 4)))\n",
    "#view.clabel(cs, inline=1, fontsize=12, fmt='%i')\n",
    "\n",
    "mmb = view.pcolormesh(tempgridx, tempgridy, temp, cmap=cmap, norm=norm)\n",
    "fig.colorbar(mmb, shrink=.4, pad=0.02, boundaries=levels)\n",
    "\n",
    "#view.barbs(windgridx, windgridy, uwind, vwind, alpha=.4, length=5)\n",
    "\n",
    "view.set_title('surface temperature map')\n",
    "\n",
    "plt.show()"
   ]
  },
  {
   "cell_type": "code",
   "execution_count": null,
   "id": "e107274a",
   "metadata": {},
   "outputs": [],
   "source": [
    "ds.attrs['timeStart']=str(ds.attrs['timeStart'])\n",
    "ds.attrs['timeEnd']=str(ds.attrs['timeEnd'])\n",
    "ds['1002'].attrs['description']=str(ds['1002'].attrs['description'])\n",
    "ds['3002'].attrs['description']=str(ds['1002'].attrs['description'])\n",
    "ds.to_netcdf(\"toto.nc\")\n"
   ]
  },
  {
   "cell_type": "markdown",
   "id": "d981d44b",
   "metadata": {},
   "source": [
    "### Test with xarray tutorial"
   ]
  },
  {
   "cell_type": "code",
   "execution_count": null,
   "id": "c5f17b52",
   "metadata": {},
   "outputs": [],
   "source": [
    "%matplotlib inline\n",
    "import numpy as np\n",
    "import pandas as pd\n",
    "import xarray as xr\n",
    "import cartopy.crs as ccrs\n",
    "from matplotlib import pyplot as plt"
   ]
  },
  {
   "cell_type": "code",
   "execution_count": null,
   "id": "ae9226bb",
   "metadata": {},
   "outputs": [],
   "source": [
    "dsxarray = xr.tutorial.open_dataset(\"rasm\").load()\n",
    "dsxarray"
   ]
  },
  {
   "cell_type": "code",
   "execution_count": null,
   "id": "4b730f0f",
   "metadata": {},
   "outputs": [],
   "source": [
    "fig, (ax1, ax2) = plt.subplots(ncols=2, figsize=(14, 4))\n",
    "dsxarray.xc.plot(ax=ax1)\n",
    "dsxarray.yc.plot(ax=ax2)"
   ]
  },
  {
   "cell_type": "code",
   "execution_count": null,
   "id": "6424d833",
   "metadata": {},
   "outputs": [],
   "source": [
    "dsxarray.Tair[0].plot()"
   ]
  },
  {
   "cell_type": "code",
   "execution_count": null,
   "id": "cee1372a",
   "metadata": {},
   "outputs": [],
   "source": [
    "dsxarray2 = xr.tutorial.load_dataset(\"air_temperature\")\n",
    "\n",
    "air = dsxarray2.air.isel(time=[0, 724]) - 273.15\n",
    "air\n",
    "map_proj = ccrs.LambertConformal(central_longitude=-95, central_latitude=45)\n",
    "p = air.plot(\n",
    "    transform=ccrs.PlateCarree(),  # the data's projection\n",
    "    col=\"time\",\n",
    "    col_wrap=1,  # multiplot settings\n",
    "    aspect=dsxarray2.dims[\"lon\"] / dsxarray2.dims[\"lat\"],  # for a sensible figsize\n",
    "    subplot_kws={\"projection\": map_proj},\n",
    ")  # the plot's projection\n",
    "\n",
    "for ax in p.axes.flat:\n",
    "    ax.coastlines()\n",
    "    ax.set_extent([-160, -30, 5, 75])\n",
    "dsxarray2"
   ]
  },
  {
   "cell_type": "markdown",
   "id": "6e73cd08",
   "metadata": {},
   "source": [
    "#### test with IPM data"
   ]
  },
  {
   "cell_type": "code",
   "execution_count": null,
   "id": "e4c40fe5",
   "metadata": {},
   "outputs": [],
   "source": [
    "ds=fmi.data(parameters=[1002,3002],\n",
    "            stationId=list_station[:25],\n",
    "            timeStart='2020-06-12',\n",
    "            timeEnd='2020-07-03',\n",
    "            timeZone='UTC',\n",
    "            format='ds',varname='id',savecache=True,usecache=True) "
   ]
  },
  {
   "cell_type": "code",
   "execution_count": null,
   "id": "95fe5d70",
   "metadata": {},
   "outputs": [],
   "source": [
    "fig, ax1 = plt.subplots(ncols=1, figsize=(4, 4))\n",
    "ax1.plot(ds.lon, ds.lat)"
   ]
  },
  {
   "cell_type": "code",
   "execution_count": null,
   "id": "ff1fb3a2",
   "metadata": {},
   "outputs": [],
   "source": [
    "ds['1002'][0].plot()\n",
    "fig, ax1 = plt.subplots(ncols=1, figsize=(4, 4))\n",
    "ax1.plot(ds.lon, ds.lat)"
   ]
  },
  {
   "cell_type": "markdown",
   "id": "376eb1b3",
   "metadata": {},
   "source": [
    "import cartopy.feature as cfeature\n",
    "import matplotlib.pyplot as plt\n",
    "import xarray as xrb"
   ]
  },
  {
   "cell_type": "code",
   "execution_count": null,
   "id": "c6b492da",
   "metadata": {},
   "outputs": [],
   "source": [
    "ds=fmi.data(parameters=[1002,3002],\n",
    "            stationId=[101533],\n",
    "            timeStart='2020-06-12',\n",
    "            timeEnd='2020-07-03',\n",
    "            timeZone='UTC',\n",
    "            format='ds',\n",
    "            varname='id')\n"
   ]
  },
  {
   "cell_type": "code",
   "execution_count": null,
   "id": "c75fc28b",
   "metadata": {},
   "outputs": [],
   "source": [
    "temp = ds['1002']*units.degC\n",
    "hum=ds['3002']*units.percent"
   ]
  },
  {
   "cell_type": "code",
   "execution_count": null,
   "id": "636526bb",
   "metadata": {},
   "outputs": [],
   "source": [
    "mpcalc.dewpoint_from_relative_humidity(temp, hum)"
   ]
  }
 ],
 "metadata": {
  "interpreter": {
   "hash": "02ca071b7e78c344288e1079c8d0ea68009fe5a98fcc0669e2a2bbe220df75ce"
  },
  "kernelspec": {
   "display_name": "Python 3 (ipykernel)",
   "language": "python",
   "name": "python3"
  },
  "language_info": {
   "codemirror_mode": {
    "name": "ipython",
    "version": 3
   },
   "file_extension": ".py",
   "mimetype": "text/x-python",
   "name": "python",
   "nbconvert_exporter": "python",
   "pygments_lexer": "ipython3",
   "version": "3.8.12"
  }
 },
 "nbformat": 4,
 "nbformat_minor": 5
}
