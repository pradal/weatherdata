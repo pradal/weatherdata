{
 "cells": [
  {
   "cell_type": "markdown",
   "metadata": {},
   "source": [
    "# Weatherdata for IPM Plateform"
   ]
  },
  {
   "cell_type": "markdown",
   "metadata": {},
   "source": [
    "## 1. import weather data modules"
   ]
  },
  {
   "cell_type": "code",
   "execution_count": 1,
   "metadata": {},
   "outputs": [],
   "source": [
    "from weatherdata.ipm import WeatherDataHub "
   ]
  },
  {
   "cell_type": "markdown",
   "metadata": {},
   "source": [
    "## 2. Access to weatherdatasource available on the platefom"
   ]
  },
  {
   "cell_type": "code",
   "execution_count": 2,
   "metadata": {},
   "outputs": [],
   "source": [
    "ws=WeatherDataHub()"
   ]
  },
  {
   "cell_type": "code",
   "execution_count": null,
   "metadata": {},
   "outputs": [],
   "source": [
    "ws.list_resources()"
   ]
  },
  {
   "cell_type": "markdown",
   "metadata": {},
   "source": [
    "## 3. Get ressource for a specific weatherdataresource "
   ]
  },
  {
   "cell_type": "markdown",
   "metadata": {},
   "source": [
    "To connect to the meteo resource, simply enter the name of the meteo resource in the get_ressource function. "
   ]
  },
  {
   "cell_type": "code",
   "execution_count": 3,
   "metadata": {},
   "outputs": [],
   "source": [
    "fmi=ws.get_ressource(name='Finnish Meteorological Institute measured data')"
   ]
  },
  {
   "cell_type": "markdown",
   "metadata": {},
   "source": [
    "Once connected to the resource various functions are available. You can check \n",
    "* the available stations for the resource with station_ids function. This function This function returns a dataframe of the stations available for the resource with their names, their identifiers and the coordinates of the station (latitude, longitude)\n",
    "* the weather parameters accepted by the resource  with parameters function. This function return common and optional weather parameter \n",
    "* Get Weatherdata in xarray dataset with attribute or json format (more description of this function below)"
   ]
  },
  {
   "cell_type": "code",
   "execution_count": null,
   "metadata": {},
   "outputs": [],
   "source": [
    "fmi.station_ids()"
   ]
  },
  {
   "cell_type": "code",
   "execution_count": null,
   "metadata": {},
   "outputs": [],
   "source": [
    "fmi.parameters()"
   ]
  },
  {
   "cell_type": "markdown",
   "metadata": {},
   "source": [
    "### Get weather data"
   ]
  },
  {
   "cell_type": "markdown",
   "metadata": {},
   "source": [
    "According to weather resources differents parameters can be used:\n",
    "* *for historic weatherdata*\n",
    "    * parameters: list of weather parameters available for the resource selected\n",
    "    * station_id: list of station id available for the resource selected\n",
    "    * timeStart: Start date of the request\n",
    "    * timeEnd: End date of the request\n",
    "    * timezone: The timezone\n",
    "    * format: 'ds' to obtain a xarray dataset or 'json' to obtain the json     \n",
    "    \n",
    "    \n",
    "* *for forecasts weather resources*\n",
    "    * latitude: list of latitude\n",
    "    * longitude: list of longitude\n",
    "    * altitude: list of altitude"
   ]
  },
  {
   "cell_type": "markdown",
   "metadata": {},
   "source": [
    "#### Example for historic weather ressources \n",
    "* for one station_id"
   ]
  },
  {
   "cell_type": "code",
   "execution_count": null,
   "metadata": {},
   "outputs": [],
   "source": [
    "%pdb"
   ]
  },
  {
   "cell_type": "code",
   "execution_count": null,
   "metadata": {},
   "outputs": [],
   "source": [
    "# for one station_ids\n",
    "ds=fmi.data(parameters=[1002,3002],\n",
    "            stationId=[101533],\n",
    "            timeStart='2020-06-12',\n",
    "            timeEnd='2020-07-03',\n",
    "            timeZone='UTC',\n",
    "            format='ds',\n",
    "            varname='id')\n",
    "ds"
   ]
  },
  {
   "cell_type": "code",
   "execution_count": null,
   "metadata": {},
   "outputs": [],
   "source": [
    "ds.to_dataframe()"
   ]
  },
  {
   "cell_type": "code",
   "execution_count": null,
   "metadata": {},
   "outputs": [],
   "source": [
    "temp = ds['1002']\n",
    "temp.plot()"
   ]
  },
  {
   "cell_type": "markdown",
   "metadata": {},
   "source": [
    "* for several station_ids"
   ]
  },
  {
   "cell_type": "code",
   "execution_count": null,
   "metadata": {},
   "outputs": [],
   "source": [
    "ds=fmi.data(parameters=[1002,3002],\n",
    "            stationId=[101533,101185],\n",
    "            timeStart='2020-06-12',\n",
    "            timeEnd='2020-07-03',\n",
    "            timeZone='UTC',\n",
    "            format='ds',varname='name')\n",
    "ds"
   ]
  },
  {
   "cell_type": "code",
   "execution_count": null,
   "metadata": {},
   "outputs": [],
   "source": [
    "ds.to_dataframe().dropna()"
   ]
  },
  {
   "cell_type": "code",
   "execution_count": null,
   "metadata": {},
   "outputs": [],
   "source": [
    "ds.plot.scatter(x='time',y='Mean air temperature at 2m',hue='location')\n",
    "temp = ds['Mean air temperature at 2m'].isel(time=0)"
   ]
  },
  {
   "cell_type": "code",
   "execution_count": null,
   "metadata": {},
   "outputs": [],
   "source": [
    "temp.isel(location=0).plot"
   ]
  },
  {
   "cell_type": "markdown",
   "metadata": {},
   "source": [
    "#### For forecast weather resources\n",
    "* example for one latitude, longitude, altitude"
   ]
  },
  {
   "cell_type": "code",
   "execution_count": null,
   "metadata": {},
   "outputs": [],
   "source": [
    "norway=ws.get_ressource(name='Met Norway Locationforecast')"
   ]
  },
  {
   "cell_type": "code",
   "execution_count": null,
   "metadata": {},
   "outputs": [],
   "source": [
    "ds=norway.data(latitude=[67.2828], longitude=[14.3711], altitude=[70],format='ds')\n",
    "ds"
   ]
  },
  {
   "cell_type": "code",
   "execution_count": null,
   "metadata": {},
   "outputs": [],
   "source": [
    "ds.to_dataframe()"
   ]
  },
  {
   "cell_type": "code",
   "execution_count": null,
   "metadata": {},
   "outputs": [],
   "source": [
    "ds=norway.data(latitude=[67.2828,61.27], longitude=[14.3711,25.52], altitude=[70, 0],format='ds')\n",
    "ds"
   ]
  },
  {
   "cell_type": "markdown",
   "metadata": {},
   "source": [
    "**From ds you can see data as dataframe with function to_dataframe and exclude na value with dropna**\n",
    "for more information on the http://xarray.pydata.org/en/stable/index.html"
   ]
  },
  {
   "cell_type": "code",
   "execution_count": null,
   "metadata": {},
   "outputs": [],
   "source": [
    "ds.to_dataframe().dropna()"
   ]
  },
  {
   "cell_type": "markdown",
   "metadata": {},
   "source": [
    "#### Example of weatherdatasource with credentials"
   ]
  },
  {
   "cell_type": "code",
   "execution_count": null,
   "metadata": {},
   "outputs": [],
   "source": [
    "fruitdevis=ws.get_ressource(name='Fruitweb')\n",
    "fruitdevis.data(parameters=[1002,3002],stationId=[536], timeStart='2021-02-01',timeEnd='2021-03-01',credentials={\"userName\":\"\",\"password\":\"GF90esoleo\"})"
   ]
  },
  {
   "cell_type": "markdown",
   "metadata": {},
   "source": [
    "# Metpy "
   ]
  },
  {
   "cell_type": "code",
   "execution_count": null,
   "metadata": {},
   "outputs": [],
   "source": [
    "import metpy.calc as mpcalc\n",
    "from metpy.units import units\n",
    "import cartopy.feature as cfeature\n",
    "import matplotlib.pyplot as plt\n",
    "import xarray as xr"
   ]
  },
  {
   "cell_type": "code",
   "execution_count": null,
   "metadata": {},
   "outputs": [],
   "source": [
    "ds=fmi.data(parameters=[1002,3002],\n",
    "            stationId=[101533],\n",
    "            timeStart='2020-06-12',\n",
    "            timeEnd='2020-07-03',\n",
    "            timeZone='UTC',\n",
    "            format='ds')\n",
    "ds"
   ]
  },
  {
   "cell_type": "code",
   "execution_count": null,
   "metadata": {},
   "outputs": [],
   "source": [
    "temp = ds['1002']*units.degC\n",
    "hum=ds['3002']*units.percent"
   ]
  },
  {
   "cell_type": "code",
   "execution_count": null,
   "metadata": {},
   "outputs": [],
   "source": [
    "mpcalc.dewpoint_from_relative_humidity(temp, hum)"
   ]
  },
  {
   "cell_type": "code",
   "execution_count": null,
   "metadata": {},
   "outputs": [],
   "source": []
  }
 ],
 "metadata": {
  "interpreter": {
   "hash": "02ca071b7e78c344288e1079c8d0ea68009fe5a98fcc0669e2a2bbe220df75ce"
  },
  "kernelspec": {
   "display_name": "Python 3.9.6 64-bit ('ipm': conda)",
   "name": "python3"
  },
  "language_info": {
   "codemirror_mode": {
    "name": "ipython",
    "version": 3
   },
   "file_extension": ".py",
   "mimetype": "text/x-python",
   "name": "python",
   "nbconvert_exporter": "python",
   "pygments_lexer": "ipython3",
   "version": "3.9.6"
  }
 },
 "nbformat": 4,
 "nbformat_minor": 5
}
